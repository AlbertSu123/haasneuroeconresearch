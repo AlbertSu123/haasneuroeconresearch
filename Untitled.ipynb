{
 "cells": [
  {
   "cell_type": "code",
   "execution_count": 1,
   "metadata": {},
   "outputs": [
    {
     "name": "stdout",
     "output_type": "stream",
     "text": [
      "Collecting glove_python\n",
      "  Using cached https://files.pythonhosted.org/packages/3e/79/7e7e548dd9dcb741935d031117f4bed133276c2a047aadad42f1552d1771/glove_python-0.1.0.tar.gz\n",
      "Requirement already satisfied: numpy in c:\\users\\alber\\anaconda3\\lib\\site-packages (from glove_python) (1.16.4)\n",
      "Requirement already satisfied: scipy in c:\\users\\alber\\anaconda3\\lib\\site-packages (from glove_python) (1.2.1)\n",
      "Building wheels for collected packages: glove-python\n",
      "  Building wheel for glove-python (setup.py): started\n",
      "  Building wheel for glove-python (setup.py): finished with status 'error'\n",
      "  Running setup.py clean for glove-python\n",
      "Failed to build glove-python\n",
      "Installing collected packages: glove-python\n",
      "  Running setup.py install for glove-python: started\n",
      "    Running setup.py install for glove-python: finished with status 'error'\n",
      "Note: you may need to restart the kernel to use updated packages.\n"
     ]
    },
    {
     "name": "stderr",
     "output_type": "stream",
     "text": [
      "  ERROR: Complete output from command 'C:\\Users\\alber\\Anaconda3\\python.exe' -u -c 'import setuptools, tokenize;__file__='\"'\"'C:\\\\Users\\\\alber\\\\AppData\\\\Local\\\\Temp\\\\pip-install-c6cxhfe8\\\\glove-python\\\\setup.py'\"'\"';f=getattr(tokenize, '\"'\"'open'\"'\"', open)(__file__);code=f.read().replace('\"'\"'\\r\\n'\"'\"', '\"'\"'\\n'\"'\"');f.close();exec(compile(code, __file__, '\"'\"'exec'\"'\"'))' bdist_wheel -d 'C:\\Users\\alber\\AppData\\Local\\Temp\\pip-wheel-yazgmnr5' --python-tag cp37:\n",
      "  ERROR: running bdist_wheel\n",
      "  running build\n",
      "  running build_py\n",
      "  creating build\n",
      "  creating build\\lib.win-amd64-3.7\n",
      "  creating build\\lib.win-amd64-3.7\\glove\n",
      "  copying glove\\corpus.py -> build\\lib.win-amd64-3.7\\glove\n",
      "  copying glove\\glove.py -> build\\lib.win-amd64-3.7\\glove\n",
      "  copying glove\\__init__.py -> build\\lib.win-amd64-3.7\\glove\n",
      "  running build_ext\n",
      "  building 'glove.glove_cython' extension\n",
      "  error: Microsoft Visual C++ 14.0 is required. Get it with \"Microsoft Visual C++ Build Tools\": https://visualstudio.microsoft.com/downloads/\n",
      "  ----------------------------------------\n",
      "  ERROR: Failed building wheel for glove-python\n",
      "  ERROR: Complete output from command 'C:\\Users\\alber\\Anaconda3\\python.exe' -u -c 'import setuptools, tokenize;__file__='\"'\"'C:\\\\Users\\\\alber\\\\AppData\\\\Local\\\\Temp\\\\pip-install-c6cxhfe8\\\\glove-python\\\\setup.py'\"'\"';f=getattr(tokenize, '\"'\"'open'\"'\"', open)(__file__);code=f.read().replace('\"'\"'\\r\\n'\"'\"', '\"'\"'\\n'\"'\"');f.close();exec(compile(code, __file__, '\"'\"'exec'\"'\"'))' clean --all:\n",
      "  ERROR: usage: -c [global_opts] cmd1 [cmd1_opts] [cmd2 [cmd2_opts] ...]\n",
      "     or: -c --help [cmd1 cmd2 ...]\n",
      "     or: -c --help-commands\n",
      "     or: -c cmd --help\n",
      "  \n",
      "  error: option --all not recognized\n",
      "  ----------------------------------------\n",
      "  ERROR: Failed cleaning build dir for glove-python\n",
      "    ERROR: Complete output from command 'C:\\Users\\alber\\Anaconda3\\python.exe' -u -c 'import setuptools, tokenize;__file__='\"'\"'C:\\\\Users\\\\alber\\\\AppData\\\\Local\\\\Temp\\\\pip-install-c6cxhfe8\\\\glove-python\\\\setup.py'\"'\"';f=getattr(tokenize, '\"'\"'open'\"'\"', open)(__file__);code=f.read().replace('\"'\"'\\r\\n'\"'\"', '\"'\"'\\n'\"'\"');f.close();exec(compile(code, __file__, '\"'\"'exec'\"'\"'))' install --record 'C:\\Users\\alber\\AppData\\Local\\Temp\\pip-record-0rtoc89g\\install-record.txt' --single-version-externally-managed --compile:\n",
      "    ERROR: running install\n",
      "    running build\n",
      "    running build_py\n",
      "    running build_ext\n",
      "    building 'glove.glove_cython' extension\n",
      "    error: Microsoft Visual C++ 14.0 is required. Get it with \"Microsoft Visual C++ Build Tools\": https://visualstudio.microsoft.com/downloads/\n",
      "    ----------------------------------------\n",
      "ERROR: Command \"'C:\\Users\\alber\\Anaconda3\\python.exe' -u -c 'import setuptools, tokenize;__file__='\"'\"'C:\\\\Users\\\\alber\\\\AppData\\\\Local\\\\Temp\\\\pip-install-c6cxhfe8\\\\glove-python\\\\setup.py'\"'\"';f=getattr(tokenize, '\"'\"'open'\"'\"', open)(__file__);code=f.read().replace('\"'\"'\\r\\n'\"'\"', '\"'\"'\\n'\"'\"');f.close();exec(compile(code, __file__, '\"'\"'exec'\"'\"'))' install --record 'C:\\Users\\alber\\AppData\\Local\\Temp\\pip-record-0rtoc89g\\install-record.txt' --single-version-externally-managed --compile\" failed with error code 1 in C:\\Users\\alber\\AppData\\Local\\Temp\\pip-install-c6cxhfe8\\glove-python\\\n"
     ]
    }
   ],
   "source": [
    "pip install glove_python"
   ]
  },
  {
   "cell_type": "code",
   "execution_count": null,
   "metadata": {},
   "outputs": [],
   "source": []
  }
 ],
 "metadata": {
  "kernelspec": {
   "display_name": "Python 3",
   "language": "python",
   "name": "python3"
  },
  "language_info": {
   "codemirror_mode": {
    "name": "ipython",
    "version": 3
   },
   "file_extension": ".py",
   "mimetype": "text/x-python",
   "name": "python",
   "nbconvert_exporter": "python",
   "pygments_lexer": "ipython3",
   "version": "3.7.3"
  }
 },
 "nbformat": 4,
 "nbformat_minor": 2
}
